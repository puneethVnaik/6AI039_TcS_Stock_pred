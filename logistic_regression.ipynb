{
 "cells": [
  {
   "cell_type": "code",
   "execution_count": 3,
   "id": "b1b026f5-5b29-426f-8abc-eca89dc2a216",
   "metadata": {},
   "outputs": [
    {
     "name": "stdout",
     "output_type": "stream",
     "text": [
      "Logistic Regression Accuracy: 0.45161290322580644\n"
     ]
    }
   ],
   "source": [
    "import pandas as pd\n",
    "import numpy as np\n",
    "from sklearn.model_selection import train_test_split\n",
    "from sklearn.linear_model import LogisticRegression\n",
    "from sklearn.metrics import accuracy_score\n",
    "\n",
    "data = pd.read_csv('TCS.csv')\n",
    "\n",
    "# Create a new target column 'Price_Up'\n",
    "data['Price_Up'] = (data['Close'].shift(-1) > data['Close']).astype(int)\n",
    "\n",
    "# Drop the last row as it will have NaN in 'Price_Up' due to the shift operation\n",
    "data = data[:-1]\n",
    "\n",
    "# Drop the 'Date' column and the future 'Close' column\n",
    "x_logistic = data.drop(['Date', 'Price_Up'], axis=1)\n",
    "y_logistic = data['Price_Up']\n",
    "\n",
    "xtrain_logistic, xtest_logistic, ytrain_logistic, ytest_logistic = train_test_split(\n",
    "    x_logistic, y_logistic, test_size=0.25, random_state=42\n",
    ")\n",
    "\n",
    "logistic_model = LogisticRegression(solver='liblinear').fit(xtrain_logistic, ytrain_logistic)\n",
    "\n",
    "ypred_logistic = logistic_model.predict(xtest_logistic)\n",
    "logistic_accuracy = accuracy_score(ytest_logistic, ypred_logistic)\n",
    "print(\"Logistic Regression Accuracy:\", logistic_accuracy)\n"
   ]
  },
  {
   "cell_type": "code",
   "execution_count": null,
   "id": "a5484ba7-ae21-4609-94af-c3b8a9686e06",
   "metadata": {},
   "outputs": [],
   "source": []
  }
 ],
 "metadata": {
  "kernelspec": {
   "display_name": "Python 3 (ipykernel)",
   "language": "python",
   "name": "python3"
  },
  "language_info": {
   "codemirror_mode": {
    "name": "ipython",
    "version": 3
   },
   "file_extension": ".py",
   "mimetype": "text/x-python",
   "name": "python",
   "nbconvert_exporter": "python",
   "pygments_lexer": "ipython3",
   "version": "3.11.9"
  }
 },
 "nbformat": 4,
 "nbformat_minor": 5
}
